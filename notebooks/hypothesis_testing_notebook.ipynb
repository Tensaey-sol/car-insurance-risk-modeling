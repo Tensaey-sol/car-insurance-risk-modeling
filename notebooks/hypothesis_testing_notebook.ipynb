{
 "cells": [
  {
   "cell_type": "markdown",
   "id": "bd888bb9",
   "metadata": {},
   "source": [
    "## Introduction\n",
    "\n",
    "This notebook conducts statistical hypothesis testing to validate or reject key hypotheses about risk drivers for AlphaCare Insurance Solutions (ACIS). The analysis focuses on identifying low-risk segments to optimize marketing strategies and premium pricing for car insurance in South Africa. The key metrics analyzed are **Claim Frequency** (proportion of policies with at least one claim), **Claim Severity** (average claim amount when a claim occurs), and **Margin** (Total Premium - Total Claims). The results will inform a new segmentation strategy to attract low-risk clients with competitive premiums."
   ]
  },
  {
   "cell_type": "markdown",
   "id": "4b7cab69",
   "metadata": {},
   "source": [
    "### Setup and Imports\n",
    "\n",
    "This section sets up the Python environment by configuring the system path and importing necessary functions for hypothesis testing. The custom `hypothesis.py` module contains functions to prepare data, calculate metrics, and perform statistical tests."
   ]
  },
  {
   "cell_type": "code",
   "execution_count": 1,
   "id": "c618dd7d",
   "metadata": {},
   "outputs": [],
   "source": [
    "import sys, os\n",
    "sys.path.insert(0, os.path.abspath('..'))\n",
    "import pandas as pd\n",
    "\n",
    "from scripts.hypothesis import (\n",
    "    prepare_hypothesis_data,\n",
    "    check_group_equivalence,\n",
    "    run_all_hypothesis_tests\n",
    ")"
   ]
  },
  {
   "cell_type": "markdown",
   "id": "8784f722",
   "metadata": {},
   "source": [
    "### Data Loading and Preparation\n",
    "\n",
    "The dataset, `MachineLearningRating_v3_cleaned.csv`, contains historical insurance claim data. The `prepare_hypothesis_data` function filters the data to ensure valid entries (e.g., positive premiums, non-negative claims) and adds derived columns: `has_claim` (binary indicator for claims) and `margin` (premium minus claims). Only records with valid gender values ('Male', 'Female') are retained."
   ]
  },
  {
   "cell_type": "code",
   "execution_count": 2,
   "id": "69591fb0",
   "metadata": {},
   "outputs": [
    {
     "name": "stdout",
     "output_type": "stream",
     "text": [
      "Filtered Data: (22487, 53)\n"
     ]
    }
   ],
   "source": [
    "df = pd.read_csv(\"../data/processed/MachineLearningRating_v3_cleaned.csv\", low_memory=False)\n",
    "df = prepare_hypothesis_data(df)"
   ]
  },
  {
   "cell_type": "markdown",
   "id": "6ec34cbc",
   "metadata": {},
   "source": [
    "This indicates the dataset has been reduced to 22,487 rows and 53 columns after filtering, ensuring data quality for hypothesis testing."
   ]
  },
  {
   "cell_type": "markdown",
   "id": "e46c9fbd",
   "metadata": {},
   "source": [
    "### Hypothesis Testing\n",
    "\n",
    "This section executes statistical tests to evaluate the following null hypotheses:\n",
    "\n",
    "1. **H₀**: There are no risk differences across provinces (Gauteng vs. KwaZulu-Natal).\n",
    "2. **H₀**: There are no risk differences between high and low-risk zones (MainCrestaZone).\n",
    "3. **H₀**: There are no significant margin differences between high and low-risk zones.\n",
    "4. **H₀**: There are no significant risk differences between women and men.\n",
    "\n",
    "The `run_all_hypothesis_tests` function performs:\n",
    "- **Chi-Squared Tests** for claim frequency (categorical data).\n",
    "- **T-Tests** for claim severity and margin (numerical data).\n",
    "- P-values are adjusted using the False Discovery Rate (FDR) method to account for multiple comparisons."
   ]
  },
  {
   "cell_type": "code",
   "execution_count": 3,
   "id": "54c915d7",
   "metadata": {},
   "outputs": [
    {
     "name": "stdout",
     "output_type": "stream",
     "text": [
      "Running Hypothesis Tests...\n"
     ]
    },
    {
     "data": {
      "text/html": [
       "<div>\n",
       "<style scoped>\n",
       "    .dataframe tbody tr th:only-of-type {\n",
       "        vertical-align: middle;\n",
       "    }\n",
       "\n",
       "    .dataframe tbody tr th {\n",
       "        vertical-align: top;\n",
       "    }\n",
       "\n",
       "    .dataframe thead th {\n",
       "        text-align: right;\n",
       "    }\n",
       "</style>\n",
       "<table border=\"1\" class=\"dataframe\">\n",
       "  <thead>\n",
       "    <tr style=\"text-align: right;\">\n",
       "      <th></th>\n",
       "      <th>test</th>\n",
       "      <th>metric</th>\n",
       "      <th>group_a</th>\n",
       "      <th>group_b</th>\n",
       "      <th>p_value</th>\n",
       "      <th>p_value_adjusted</th>\n",
       "    </tr>\n",
       "  </thead>\n",
       "  <tbody>\n",
       "    <tr>\n",
       "      <th>0</th>\n",
       "      <td>Chi-Squared</td>\n",
       "      <td>claim_frequency</td>\n",
       "      <td>Gauteng</td>\n",
       "      <td>KwaZulu-Natal</td>\n",
       "      <td>0.043458</td>\n",
       "      <td>0.145128</td>\n",
       "    </tr>\n",
       "    <tr>\n",
       "      <th>1</th>\n",
       "      <td>T-Test</td>\n",
       "      <td>claim_severity</td>\n",
       "      <td>Gauteng</td>\n",
       "      <td>KwaZulu-Natal</td>\n",
       "      <td>0.422846</td>\n",
       "      <td>0.603590</td>\n",
       "    </tr>\n",
       "    <tr>\n",
       "      <th>2</th>\n",
       "      <td>Chi-Squared</td>\n",
       "      <td>claim_frequency</td>\n",
       "      <td>High</td>\n",
       "      <td>Low</td>\n",
       "      <td>0.000065</td>\n",
       "      <td>0.000456</td>\n",
       "    </tr>\n",
       "    <tr>\n",
       "      <th>3</th>\n",
       "      <td>T-Test</td>\n",
       "      <td>claim_severity</td>\n",
       "      <td>High</td>\n",
       "      <td>Low</td>\n",
       "      <td>0.961883</td>\n",
       "      <td>0.961883</td>\n",
       "    </tr>\n",
       "    <tr>\n",
       "      <th>4</th>\n",
       "      <td>T-Test</td>\n",
       "      <td>margin</td>\n",
       "      <td>High</td>\n",
       "      <td>Low</td>\n",
       "      <td>0.062198</td>\n",
       "      <td>0.145128</td>\n",
       "    </tr>\n",
       "    <tr>\n",
       "      <th>5</th>\n",
       "      <td>Chi-Squared</td>\n",
       "      <td>claim_frequency</td>\n",
       "      <td>Female</td>\n",
       "      <td>Male</td>\n",
       "      <td>0.706141</td>\n",
       "      <td>0.823831</td>\n",
       "    </tr>\n",
       "    <tr>\n",
       "      <th>6</th>\n",
       "      <td>T-Test</td>\n",
       "      <td>claim_severity</td>\n",
       "      <td>Female</td>\n",
       "      <td>Male</td>\n",
       "      <td>0.431136</td>\n",
       "      <td>0.603590</td>\n",
       "    </tr>\n",
       "  </tbody>\n",
       "</table>\n",
       "</div>"
      ],
      "text/plain": [
       "          test           metric  group_a        group_b   p_value  \\\n",
       "0  Chi-Squared  claim_frequency  Gauteng  KwaZulu-Natal  0.043458   \n",
       "1       T-Test   claim_severity  Gauteng  KwaZulu-Natal  0.422846   \n",
       "2  Chi-Squared  claim_frequency     High            Low  0.000065   \n",
       "3       T-Test   claim_severity     High            Low  0.961883   \n",
       "4       T-Test           margin     High            Low  0.062198   \n",
       "5  Chi-Squared  claim_frequency   Female           Male  0.706141   \n",
       "6       T-Test   claim_severity   Female           Male  0.431136   \n",
       "\n",
       "   p_value_adjusted  \n",
       "0          0.145128  \n",
       "1          0.603590  \n",
       "2          0.000456  \n",
       "3          0.961883  \n",
       "4          0.145128  \n",
       "5          0.823831  \n",
       "6          0.603590  "
      ]
     },
     "metadata": {},
     "output_type": "display_data"
    }
   ],
   "source": [
    "results = run_all_hypothesis_tests(df)\n",
    "display(results)"
   ]
  },
  {
   "cell_type": "markdown",
   "id": "12c3cc0c",
   "metadata": {},
   "source": [
    "### Interpretation of Results\n",
    "\n",
    "- **Province (Gauteng vs. KwaZulu-Natal)**:\n",
    "  - Claim Frequency: p = 0.145 (adjusted) > 0.05 → Fail to reject H₀. No significant difference in claim frequency.\n",
    "  - Claim Severity: p = 0.604 (adjusted) > 0.05 → Fail to reject H₀. No significant difference in claim severity.\n",
    "- **Risk Zones (High vs. Low)**:\n",
    "  - Claim Frequency: p = 0.00046 (adjusted) < 0.05 → Reject H₀. High-risk zones have significantly higher claim frequency.\n",
    "  - Claim Severity: p = 0.962 (adjusted) > 0.05 → Fail to reject H₀. No significant difference in claim severity.\n",
    "  - Margin: p = 0.145 (adjusted) > 0.05 → Fail to reject H₀. No significant difference in margin.\n",
    "- **Gender (Female vs. Male)**:\n",
    "  - Claim Frequency: p = 0.824 (adjusted) > 0.05 → Fail to reject H₀. No significant difference in claim frequency.\n",
    "  - Claim Severity: p = 0.604 (adjusted) > 0.05 → Fail to reject H₀. No significant difference in claim severity."
   ]
  },
  {
   "cell_type": "markdown",
   "id": "4c57b763",
   "metadata": {},
   "source": [
    "### Group Equivalence Check\n",
    "\n",
    "To ensure valid A/B testing, the control (Gauteng) and test (KwaZulu-Natal) groups must be statistically equivalent across key attributes (e.g., Marital Status, Vehicle Type, Cover Type, Cubic Capacity). The `check_group_equivalence` function tests for differences using Chi-Squared tests (categorical variables) or T-Tests (numerical variables)."
   ]
  },
  {
   "cell_type": "code",
   "execution_count": 4,
   "id": "0f8456ce",
   "metadata": {},
   "outputs": [
    {
     "data": {
      "text/html": [
       "<div>\n",
       "<style scoped>\n",
       "    .dataframe tbody tr th:only-of-type {\n",
       "        vertical-align: middle;\n",
       "    }\n",
       "\n",
       "    .dataframe tbody tr th {\n",
       "        vertical-align: top;\n",
       "    }\n",
       "\n",
       "    .dataframe thead th {\n",
       "        text-align: right;\n",
       "    }\n",
       "</style>\n",
       "<table border=\"1\" class=\"dataframe\">\n",
       "  <thead>\n",
       "    <tr style=\"text-align: right;\">\n",
       "      <th></th>\n",
       "      <th>column</th>\n",
       "      <th>test</th>\n",
       "      <th>p_value</th>\n",
       "    </tr>\n",
       "  </thead>\n",
       "  <tbody>\n",
       "    <tr>\n",
       "      <th>0</th>\n",
       "      <td>MaritalStatus</td>\n",
       "      <td>Chi-Squared</td>\n",
       "      <td>0.099377</td>\n",
       "    </tr>\n",
       "    <tr>\n",
       "      <th>1</th>\n",
       "      <td>VehicleType</td>\n",
       "      <td>Chi-Squared</td>\n",
       "      <td>0.907310</td>\n",
       "    </tr>\n",
       "    <tr>\n",
       "      <th>2</th>\n",
       "      <td>cubiccapacity</td>\n",
       "      <td>T-Test</td>\n",
       "      <td>0.047800</td>\n",
       "    </tr>\n",
       "  </tbody>\n",
       "</table>\n",
       "</div>"
      ],
      "text/plain": [
       "          column         test   p_value\n",
       "0  MaritalStatus  Chi-Squared  0.099377\n",
       "1    VehicleType  Chi-Squared  0.907310\n",
       "2  cubiccapacity       T-Test  0.047800"
      ]
     },
     "metadata": {},
     "output_type": "display_data"
    }
   ],
   "source": [
    "equivalence = check_group_equivalence(df, 'Province', 'Gauteng', 'KwaZulu-Natal',\n",
    "                                      ['MaritalStatus', 'VehicleType', 'CoverType', 'cubiccapacity'])\n",
    "display(equivalence)"
   ]
  },
  {
   "cell_type": "markdown",
   "id": "09fb7403",
   "metadata": {},
   "source": [
    "### Interpretation of Equivalence\n",
    "\n",
    "- **Marital Status** (p = 0.099) and **Vehicle Type** (p = 0.907) show no significant differences (p > 0.05), indicating equivalence.\n",
    "- **Cubic Capacity** (p = 0.048) is slightly below the 0.05 threshold, suggesting a minor difference that could introduce bias. However, this is marginally significant and unlikely to substantially affect results.\n",
    "- **Cover Type** results are not shown, possibly due to insufficient data or low cell counts in the contingency table. Further investigation may be needed.\n",
    "\n",
    "Overall, the groups are reasonably balanced, supporting the validity of the province-based hypothesis tests."
   ]
  },
  {
   "cell_type": "markdown",
   "id": "b3a29533",
   "metadata": {},
   "source": [
    "## Hypothesis Testing Summary\n",
    "\n",
    "### Hypotheses and Findings\n",
    "\n",
    "| Hypothesis | Result | Interpretation |\n",
    "|------------|--------|----------------|\n",
    "| H₀: No risk difference between **Gauteng** and **KwaZulu-Natal** | ❌ *Fail to reject* | Risk (claim frequency and severity) is not significantly different between these provinces. |\n",
    "| H₀: No risk difference between **High vs. Low Risk Zones** | ✅ *Reject* (Claim Frequency) | High-risk zones have significantly higher claim frequency, but no difference in claim severity. |\n",
    "| H₀: No margin difference between **High vs. Low Risk Zones** | ❌ *Fail to reject* | Margin differences are not statistically significant, though some evidence suggests further investigation. |\n",
    "| H₀: No risk/severity difference by **Gender** | ❌ *Fail to reject* | Risk and claim severity are statistically equivalent between male and female clients. |\n",
    "\n",
    "### Business Recommendations\n",
    "\n",
    "Based on the statistical findings, the following recommendations are proposed to optimize ACIS's marketing and pricing strategies:\n",
    "\n",
    "1. **Province-Based Pricing**: Do not implement regional pricing differences between Gauteng and KwaZulu-Natal, as the data shows no significant risk variation. This simplifies marketing efforts and avoids unnecessary premium adjustments.\n",
    "2. **Zone-Based Risk Pricing**: Leverage the significant difference in claim frequency between high and low-risk zones (MainCrestaZone). Offer lower premiums in low-risk zones to attract new clients while adjusting premiums upward in high-risk zones to reflect increased claim frequency.\n",
    "3. **Gender-Neutral Pricing**: Maintain gender-neutral pricing, as no significant risk differences were found between male and female clients. This supports fair pricing practices and avoids potential regulatory scrutiny.\n",
    "4. **Monitor Margins by Zone**: While margin differences between high and low-risk zones were not statistically significant, the p-value (0.145) suggests potential differences. Collect additional data to confirm whether zone-based margin adjustments are warranted.\n",
    "5. **Refine Data Collection**: Address minor group imbalances (e.g., cubic capacity differences) by collecting more comprehensive data or refining segmentation criteria to ensure robust A/B testing in future analyses.\n",
    "\n",
    "### Next Steps\n",
    "\n",
    "- **Expand Zone Analysis**: Further segment MainCrestaZone data to identify specific high-risk areas for targeted interventions.\n",
    "- **Incorporate Additional Features**: Explore other features (e.g., vehicle age, driver experience) in future hypothesis tests to uncover additional risk drivers.\n",
    "- **Validate with Larger Samples**: Increase sample size for margin analysis to improve statistical power and confirm trends.\n",
    "- **Integrate with Predictive Models**: Use these findings to inform machine learning models for premium optimization (Task 4).\n",
    "\n",
    "This analysis provides a solid foundation for ACIS to refine its segmentation strategy, focusing on zone-based risk differences while maintaining equitable pricing across provinces and genders."
   ]
  }
 ],
 "metadata": {
  "kernelspec": {
   "display_name": ".venv",
   "language": "python",
   "name": "python3"
  },
  "language_info": {
   "codemirror_mode": {
    "name": "ipython",
    "version": 3
   },
   "file_extension": ".py",
   "mimetype": "text/x-python",
   "name": "python",
   "nbconvert_exporter": "python",
   "pygments_lexer": "ipython3",
   "version": "3.13.1"
  }
 },
 "nbformat": 4,
 "nbformat_minor": 5
}
